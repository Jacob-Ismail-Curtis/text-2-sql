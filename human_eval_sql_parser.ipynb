{
 "cells": [
  {
   "cell_type": "code",
   "execution_count": 3,
   "metadata": {},
   "outputs": [
    {
     "name": "stdout",
     "output_type": "stream",
     "text": [
      "Requirement already satisfied: sql-metadata in /usr/local/anaconda3/lib/python3.9/site-packages (2.15.0)\n",
      "Requirement already satisfied: sqlparse<0.6.0,>=0.4.1 in /usr/local/anaconda3/lib/python3.9/site-packages (from sql-metadata) (0.5.3)\n",
      "Requirement already satisfied: pyparsing in /usr/local/anaconda3/lib/python3.9/site-packages (3.0.4)\n"
     ]
    }
   ],
   "source": [
    "!pip install sql-metadata\n",
    "!pip install pyparsing"
   ]
  },
  {
   "cell_type": "code",
   "execution_count": 4,
   "metadata": {},
   "outputs": [
    {
     "name": "stdout",
     "output_type": "stream",
     "text": [
      "Processed file saved as ./processed_sql_rag_eval.csv\n"
     ]
    }
   ],
   "source": [
    "from sql_metadata import Parser\n",
    "import csv\n",
    "\n",
    "def extract_tables_and_columns(sql_query):\n",
    "    \"\"\"\n",
    "    Extract tables and columns from a SQL query using sql-metadata.\n",
    "    \"\"\"\n",
    "    parser = Parser(sql_query)\n",
    "    tables = parser.tables\n",
    "    columns = parser.columns\n",
    "    \n",
    "    # Add table prefix to columns without one if there's a single table\n",
    "    if len(tables) == 1:\n",
    "        table_name = tables[0]\n",
    "        columns = [col if '.' in col else f\"{table_name}.{col}\" for col in columns]\n",
    "\n",
    "    return tables, columns\n",
    "\n",
    "def process_csv(input_csv, output_csv):\n",
    "    \"\"\"\n",
    "    Read the input CSV, extract tables and columns for each query, and write the results to the output CSV.\n",
    "    \"\"\"\n",
    "    with open(input_csv, 'r') as infile, open(output_csv, 'w', newline='') as outfile:\n",
    "        reader = csv.DictReader(infile)\n",
    "        fieldnames = reader.fieldnames\n",
    "        writer = csv.DictWriter(outfile, fieldnames=fieldnames)\n",
    "\n",
    "        writer.writeheader()\n",
    "\n",
    "        for row in reader:\n",
    "            sql_query = row['sql_query']\n",
    "            tables, columns = extract_tables_and_columns(sql_query)\n",
    "\n",
    "            # Update the row with the extracted tables and columns\n",
    "            row['tables'] = ', '.join(tables)\n",
    "            row['columns'] = ', '.join(columns)\n",
    "\n",
    "            writer.writerow(row)\n",
    "\n",
    "if __name__ == \"__main__\":\n",
    "    input_csv = \"./sql_rag_eval.csv\"\n",
    "    output_csv = \"./processed_sql_rag_eval.csv\"\n",
    "    process_csv(input_csv, output_csv)\n",
    "    print(f\"Processed file saved as {output_csv}\")\n"
   ]
  },
  {
   "cell_type": "code",
   "execution_count": null,
   "metadata": {},
   "outputs": [],
   "source": []
  }
 ],
 "metadata": {
  "kernelspec": {
   "display_name": "base",
   "language": "python",
   "name": "python3"
  },
  "language_info": {
   "codemirror_mode": {
    "name": "ipython",
    "version": 3
   },
   "file_extension": ".py",
   "mimetype": "text/x-python",
   "name": "python",
   "nbconvert_exporter": "python",
   "pygments_lexer": "ipython3",
   "version": "3.9.12"
  }
 },
 "nbformat": 4,
 "nbformat_minor": 2
}
